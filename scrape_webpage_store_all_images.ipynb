{
 "cells": [
  {
   "cell_type": "markdown",
   "metadata": {},
   "source": [
    "# **Scrape Webpage & Store All Images**\n",
    "### Goal:\n",
    "\n",
    "Create a script that scrapes an eccomerce webpage for all it images and stores them locally. Also, place a link to those images inside Google/Excel Spread sheet for easy access:\n",
    "\n",
    "### Objectives:\n",
    "1) Enter a URL\n",
    "2) Have that page scraped for all images\n",
    "3) Store the images locally (e.g. Local Drive C).\n",
    "4) Script should also place a link to those images inside of a Google Sheet/Excel Sheet for easy access."
   ]
  },
  {
   "cell_type": "markdown",
   "metadata": {},
   "source": [
    "## Import the necessary libraries"
   ]
  },
  {
   "cell_type": "code",
   "execution_count": 10,
   "metadata": {},
   "outputs": [],
   "source": [
    "import requests # for downloading webpage\n",
    "from bs4 import BeautifulSoup # for parsing or scraping webpage\n",
    "import os\n",
    "import re\n",
    "import pandas as pd"
   ]
  },
  {
   "cell_type": "markdown",
   "metadata": {},
   "source": [
    "## Create Complete Script"
   ]
  },
  {
   "cell_type": "code",
   "execution_count": 25,
   "metadata": {},
   "outputs": [
    {
     "name": "stdout",
     "output_type": "stream",
     "text": [
      "Success!\n"
     ]
    }
   ],
   "source": [
    "# Get the url\n",
    "def getdata(url):\n",
    "\n",
    "    # download the webpage\n",
    "    response = requests.get(url)\n",
    "\n",
    "    # check that the webpage been downloaded successfully\n",
    "    if response.status_code == 200:\n",
    "        print(\"Success!\")\n",
    "\n",
    "        # check the content-type is text/html\n",
    "        if 'text' in response.headers['content-type']:\n",
    "            html = response.text # store text content in html variable\n",
    "\n",
    "            # parse html content for all images\n",
    "            soup = BeautifulSoup(html, 'html.parser')\n",
    "            all_img = soup.find_all('img', src=True)\n",
    "            \n",
    "            # create an empty links_list variable\n",
    "            links_list = [] # to collect all the image links and save it to a csv file\n",
    "            for img in all_img:\n",
    "                if ('https' in img['src']) & ('img' in img['src']):\n",
    "                    # download image\n",
    "                    image_name = re.findall(r'\\w+\\.jpg$', img['src'])\n",
    "                    path = os.path.join('C:\\\\Users\\\\hp\\\\Downloads\\\\Images', image_name[0])\n",
    "                    with open(path, 'wb') as file:\n",
    "                        file.write(response.content)\n",
    "\n",
    "                    # append image links to links_list variable\n",
    "                    links_list.append(img['src'])\n",
    "\n",
    "                # create a dataframe\n",
    "                df = pd.DataFrame(columns=['Links'])\n",
    "                # save image links to csv files\n",
    "                df['Links'] = links_list\n",
    "                df.to_csv('C:\\\\Users\\\\hp\\\\Downloads\\\\Images\\\\thewhiskyexchange.csv', index=False)"
   ]
  },
  {
   "cell_type": "markdown",
   "metadata": {},
   "source": [
    "## Test with Sample Website"
   ]
  },
  {
   "cell_type": "code",
   "execution_count": null,
   "metadata": {},
   "outputs": [],
   "source": [
    "# test with thewhiskyexchange url\n",
    "url = 'https://www.thewhiskyexchange.com/c/35/japanese-whisky'\n",
    "getdata(url)"
   ]
  }
 ],
 "metadata": {
  "kernelspec": {
   "display_name": "Python 3.10.6 64-bit",
   "language": "python",
   "name": "python3"
  },
  "language_info": {
   "codemirror_mode": {
    "name": "ipython",
    "version": 3
   },
   "file_extension": ".py",
   "mimetype": "text/x-python",
   "name": "python",
   "nbconvert_exporter": "python",
   "pygments_lexer": "ipython3",
   "version": "3.10.6"
  },
  "orig_nbformat": 4,
  "vscode": {
   "interpreter": {
    "hash": "63963b3f4c440940f0b94a3100916033a226cb4f45979123153792d60aa56d6a"
   }
  }
 },
 "nbformat": 4,
 "nbformat_minor": 2
}
